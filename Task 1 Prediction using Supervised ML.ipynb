{
 "cells": [
  {
   "cell_type": "markdown",
   "metadata": {},
   "source": [
    "# Tadele Yednkachw"
   ]
  },
  {
   "cell_type": "markdown",
   "metadata": {},
   "source": [
    "# Prediction using Supervised ML"
   ]
  },
  {
   "cell_type": "markdown",
   "metadata": {},
   "source": [
    "# Step 1 : Frame the problem\n",
    "\n",
    "        1) Since we're given labeled training example we should use supervised learning algorithms.\n",
    "        2) our trained model should return value thus it is a regression problem.\n",
    "        3) there is one feature in the data, so it is a simple linear regression problem.\n",
    "        4) our model output should be a single value, it is a univariate regression problem.\n",
    "        5) since the dataset is small enough to fit in memeory at once we can use batch learning."
   ]
  },
  {
   "attachments": {},
   "cell_type": "markdown",
   "metadata": {},
   "source": [
    "# Step 2 : Select a performance measure\n",
    "    \n",
    "        -A performance measure gives us how much error the system typically makes in its prediction.\n",
    "        -I choose root mean squared error(RMSE), because its typical choice on simple regression problems, and the trainging example does not have an extreme outliers.\n",
    "       -Root mean squared error is cost function measured on the set of examples using our hypothesis h\n",
    "       -Explanation on RMSE parameters:\n",
    "            1) h -our systems prediction function also called hypothesis \n",
    "                 -when our system given an instance's feature vector x(i), it outputs y_hat = h(x(i))\n",
    "                 \n",
    "            2) X-is a matrix containing all features values without the lables of all instances in the dataset.\n",
    "            3) x(i) -is a vector of all feature values without the label of the ith instance in the dataset.\n",
    "            4) m -is the number of instances in the dataset."
   ]
  },
  {
   "attachments": {
    "Screenshot%20from%202020-11-06%2003-43-57.png": {
     "image/png": "[encoded data removed]"
    }
   },
   "cell_type": "markdown",
   "metadata": {},
   "source": [
    "![Screenshot%20from%202020-11-06%2003-43-57.png](attachment:Screenshot%20from%202020-11-06%2003-43-57.png)"
   ]
  },
  {
   "cell_type": "markdown",
   "metadata": {},
   "source": [
    "# Step 3 : Get the Data and save it in local system"
   ]
  },
  {
   "cell_type": "code",
   "execution_count": 23,
   "metadata": {},
   "outputs": [
    {
     "ename": "IsADirectoryError",
     "evalue": "[Errno 21] Is a directory: 'datasets/task_1/study_hours.csv'",
     "output_type": "error",
     "traceback": [
      "\u001b[0;31m---------------------------------------------------------------------------\u001b[0m",
      "\u001b[0;31mIsADirectoryError\u001b[0m                         Traceback (most recent call last)",
      "\u001b[0;32m<ipython-input-23-2c1b1b3176fe>\u001b[0m in \u001b[0;36m<module>\u001b[0;34m\u001b[0m\n\u001b[1;32m     15\u001b[0m         \u001b[0;32mfor\u001b[0m \u001b[0melt\u001b[0m \u001b[0;32min\u001b[0m \u001b[0mmy_list\u001b[0m\u001b[0;34m:\u001b[0m\u001b[0;34m\u001b[0m\u001b[0;34m\u001b[0m\u001b[0m\n\u001b[1;32m     16\u001b[0m             \u001b[0mwriter\u001b[0m\u001b[0;34m.\u001b[0m\u001b[0mwriterow\u001b[0m\u001b[0;34m(\u001b[0m\u001b[0melt\u001b[0m\u001b[0;34m)\u001b[0m\u001b[0;34m\u001b[0m\u001b[0;34m\u001b[0m\u001b[0m\n\u001b[0;32m---> 17\u001b[0;31m \u001b[0mfetch_data\u001b[0m\u001b[0;34m(\u001b[0m\u001b[0mDOWNLOAD_DIRECTORY\u001b[0m\u001b[0;34m)\u001b[0m\u001b[0;34m\u001b[0m\u001b[0;34m\u001b[0m\u001b[0m\n\u001b[0m",
      "\u001b[0;32m<ipython-input-23-2c1b1b3176fe>\u001b[0m in \u001b[0;36mfetch_data\u001b[0;34m(DOWNLOAD_DIRECTORY)\u001b[0m\n\u001b[1;32m     10\u001b[0m     \u001b[0mcr\u001b[0m \u001b[0;34m=\u001b[0m \u001b[0mcsv\u001b[0m\u001b[0;34m.\u001b[0m\u001b[0mreader\u001b[0m\u001b[0;34m(\u001b[0m\u001b[0mdecoded_content\u001b[0m\u001b[0;34m.\u001b[0m\u001b[0msplitlines\u001b[0m\u001b[0;34m(\u001b[0m\u001b[0;34m)\u001b[0m\u001b[0;34m,\u001b[0m \u001b[0mdelimiter\u001b[0m\u001b[0;34m=\u001b[0m\u001b[0;34m','\u001b[0m\u001b[0;34m)\u001b[0m\u001b[0;34m\u001b[0m\u001b[0;34m\u001b[0m\u001b[0m\n\u001b[1;32m     11\u001b[0m     \u001b[0mmy_list\u001b[0m \u001b[0;34m=\u001b[0m \u001b[0mlist\u001b[0m\u001b[0;34m(\u001b[0m\u001b[0mcr\u001b[0m\u001b[0;34m)\u001b[0m\u001b[0;34m\u001b[0m\u001b[0;34m\u001b[0m\u001b[0m\n\u001b[0;32m---> 12\u001b[0;31m     \u001b[0;32mwith\u001b[0m \u001b[0mopen\u001b[0m\u001b[0;34m(\u001b[0m\u001b[0mSTUDY_HOURS_PATH\u001b[0m\u001b[0;34m,\u001b[0m \u001b[0;34m'w'\u001b[0m\u001b[0;34m,\u001b[0m \u001b[0mnewline\u001b[0m\u001b[0;34m=\u001b[0m\u001b[0;34m''\u001b[0m\u001b[0;34m)\u001b[0m \u001b[0;32mas\u001b[0m \u001b[0mcsvfile\u001b[0m\u001b[0;34m:\u001b[0m\u001b[0;34m\u001b[0m\u001b[0;34m\u001b[0m\u001b[0m\n\u001b[0m\u001b[1;32m     13\u001b[0m         writer = csv.writer(csvfile, delimiter=' ',\n\u001b[1;32m     14\u001b[0m                             quotechar='|', quoting=csv.QUOTE_MINIMAL)\n",
      "\u001b[0;31mIsADirectoryError\u001b[0m: [Errno 21] Is a directory: 'datasets/task_1/study_hours.csv'"
     ]
    }
   ],
   "source": [
    "import requests\n",
    "import os\n",
    "import csv\n",
    "DOWNLOAD_DIRECTORY = \"http://bit.ly/w-data\"\n",
    "STUDY_HOURS_PATH = os.path.join(\"datasets\", \"task_1\")\n",
    "def fetch_data(DOWNLOAD_DIRECTORY):\n",
    "    os.makedirs(STUDY_HOURS_PATH, exist_ok=True)\n",
    "    r = requests.get(DOWNLOAD_DIRECTORY)\n",
    "    decoded_content = r.content.decode('utf-8')\n",
    "    cr = csv.reader(decoded_content.splitlines(), delimiter=',')\n",
    "    my_list = list(cr)\n",
    "    file_path = os.path.join(STUDY_HOURS_PATH, \"study_hours.csv\")\n",
    "    with open(file_path, 'w', newline='') as csvfile:\n",
    "        writer = csv.writer(csvfile, delimiter=' ',\n",
    "                            quotechar='|', quoting=csv.QUOTE_MINIMAL)\n",
    "        for elt in my_list:\n",
    "            writer.writerow(elt)\n",
    "fetch_data(DOWNLOAD_DIRECTORY)"
   ]
  },
  {
   "cell_type": "code",
   "execution_count": null,
   "metadata": {},
   "outputs": [],
   "source": []
  }
 ],
 "metadata": {
  "kernelspec": {
   "display_name": "Python 3",
   "language": "python",
   "name": "python3"
  },
  "language_info": {
   "codemirror_mode": {
    "name": "ipython",
    "version": 3
   },
   "file_extension": ".py",
   "mimetype": "text/x-python",
   "name": "python",
   "nbconvert_exporter": "python",
   "pygments_lexer": "ipython3",
   "version": "3.7.7"
  }
 },
 "nbformat": 4,
 "nbformat_minor": 4
}
